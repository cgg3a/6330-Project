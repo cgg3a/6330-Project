{
 "cells": [
  {
   "cell_type": "markdown",
   "id": "9b2a2ff8-d02c-4d87-ad4a-720c282d1227",
   "metadata": {},
   "source": [
    "Caleb Griffy"
   ]
  },
  {
   "cell_type": "code",
   "execution_count": 1,
   "id": "4c6040e8-a2dd-40f6-8389-cd083dc54b97",
   "metadata": {},
   "outputs": [],
   "source": [
    "import subprocess"
   ]
  },
  {
   "cell_type": "code",
   "execution_count": 2,
   "id": "bd7e8d22-454b-49bd-ab88-03969150d0b8",
   "metadata": {},
   "outputs": [],
   "source": [
    "counts = [1, 2, 4, 8] # Thread counts to try\n",
    "numTests = 100"
   ]
  },
  {
   "cell_type": "code",
   "execution_count": 3,
   "id": "c5892905-32d5-4d8d-84cf-aae055ba7c3c",
   "metadata": {},
   "outputs": [],
   "source": [
    "def runTests(testName):\n",
    "    subprocess.run(['g++', testName])\n",
    "    serialTimes = []\n",
    "    avgTimes = []\n",
    "    avgSpeedups = []\n",
    "    avgEfficiencies = []\n",
    "    # Find times for each seed in serial\n",
    "    print(\"Serial\")\n",
    "    for i in range(numTests):\n",
    "        # Report every 20% progress\n",
    "        if (i % (numTests / 5) == 0):\n",
    "            print(\"Run \" + str(i))\n",
    "        result = subprocess.run(['./a.out', str(i), '1'], capture_output=True)\n",
    "        serialTimes.append(float(result.stdout.decode('utf-8')[:-1]))\n",
    "    # The first of each list is serial. Speedup and efficiency for serial are 1 (no change)\n",
    "    avgTimes.append(sum(serialTimes) / numTests)\n",
    "    avgSpeedups.append(1)\n",
    "    avgEfficiencies.append(1)\n",
    "    # For each of the tests we want to run (thread counts)\n",
    "    for j in range(len(counts) - 1):\n",
    "        time = 0\n",
    "        speedup = 0\n",
    "        efficiency = 0\n",
    "        # Show the current thread count\n",
    "        print(\"Test \" + str(counts[j + 1]))\n",
    "        for i in range(numTests):\n",
    "            # Report every 20% progress\n",
    "            if (i % (numTests / 5) == 0):\n",
    "                print(\"Run \" + str(i))\n",
    "            result = subprocess.run(['./a.out', str(i), str(counts[j + 1])], capture_output=True)\n",
    "            # The time of the current test\n",
    "            tm = float(result.stdout.decode('utf-8')[:-1])\n",
    "            time += tm # To average the times\n",
    "            sp = serialTimes[i] / tm # Speedup of the current test\n",
    "            speedup += sp # To average the speedups\n",
    "            efficiency += sp / counts[j + 1] # Efficiency of the current test, to be averaged\n",
    "        # Average over all seeds, for the given thread count\n",
    "        avgTimes.append(time / numTests)\n",
    "        avgSpeedups.append(speedup / numTests)\n",
    "        avgEfficiencies.append(efficiency / numTests)\n",
    "    # Return results in a matrix\n",
    "    result = []\n",
    "    result.append(avgTimes)\n",
    "    result.append(avgSpeedups)\n",
    "    result.append(avgEfficiencies)\n",
    "    return result"
   ]
  },
  {
   "cell_type": "code",
   "execution_count": 4,
   "id": "e97297ab-c497-4512-9963-b1996bac1b73",
   "metadata": {},
   "outputs": [
    {
     "name": "stdout",
     "output_type": "stream",
     "text": [
      "Serial\n",
      "Run 0\n",
      "Run 20\n",
      "Run 40\n",
      "Run 60\n",
      "Run 80\n",
      "Test 2\n",
      "Run 0\n",
      "Run 20\n",
      "Run 40\n",
      "Run 60\n",
      "Run 80\n",
      "Test 4\n",
      "Run 0\n",
      "Run 20\n",
      "Run 40\n",
      "Run 60\n",
      "Run 80\n",
      "Test 8\n",
      "Run 0\n",
      "Run 20\n",
      "Run 40\n",
      "Run 60\n",
      "Run 80\n"
     ]
    },
    {
     "data": {
      "text/plain": [
       "[[0.23501635, 0.12271628000000005, 0.067015411, 0.038034597999999996],\n",
       " [1, 1.9199524948398032, 3.5424212794197434, 6.339438297294672],\n",
       " [1, 0.9599762474199016, 0.8856053198549358, 0.792429787161834]]"
      ]
     },
     "execution_count": 4,
     "metadata": {},
     "output_type": "execute_result"
    }
   ],
   "source": [
    "runTests('array_sum.cpp')"
   ]
  },
  {
   "cell_type": "code",
   "execution_count": 5,
   "id": "5bfef86c-6d82-4a76-bc65-1d9791297160",
   "metadata": {},
   "outputs": [
    {
     "name": "stdout",
     "output_type": "stream",
     "text": [
      "Serial\n",
      "Run 0\n",
      "Run 20\n",
      "Run 40\n",
      "Run 60\n",
      "Run 80\n",
      "Test 2\n",
      "Run 0\n",
      "Run 20\n",
      "Run 40\n",
      "Run 60\n",
      "Run 80\n",
      "Test 4\n",
      "Run 0\n",
      "Run 20\n",
      "Run 40\n",
      "Run 60\n",
      "Run 80\n",
      "Test 8\n",
      "Run 0\n",
      "Run 20\n",
      "Run 40\n",
      "Run 60\n",
      "Run 80\n"
     ]
    },
    {
     "data": {
      "text/plain": [
       "[[0.45487619, 0.21298709, 0.12012180400000007, 0.08526057100000002],\n",
       " [1, 2.1928020519557934, 4.069198397715353, 6.081208381564863],\n",
       " [1, 1.0964010259778967, 1.0172995994288383, 0.7601510476956079]]"
      ]
     },
     "execution_count": 5,
     "metadata": {},
     "output_type": "execute_result"
    }
   ],
   "source": [
    "runTests('vector_sum.cpp')"
   ]
  },
  {
   "cell_type": "code",
   "execution_count": 6,
   "id": "04263c0e-3328-4485-9929-812e6f1eef61",
   "metadata": {},
   "outputs": [
    {
     "name": "stdout",
     "output_type": "stream",
     "text": [
      "Serial\n",
      "Run 0\n",
      "Run 20\n",
      "Run 40\n",
      "Run 60\n",
      "Run 80\n",
      "Test 2\n",
      "Run 0\n",
      "Run 20\n",
      "Run 40\n",
      "Run 60\n",
      "Run 80\n",
      "Test 4\n",
      "Run 0\n",
      "Run 20\n",
      "Run 40\n",
      "Run 60\n",
      "Run 80\n",
      "Test 8\n",
      "Run 0\n",
      "Run 20\n",
      "Run 40\n",
      "Run 60\n",
      "Run 80\n"
     ]
    },
    {
     "data": {
      "text/plain": [
       "[[0.1148417271,\n",
       "  0.05821652072000002,\n",
       "  0.029625559690000004,\n",
       "  0.017254729640000004],\n",
       " [1, 5.523245270833965, 10.23818494063987, 11.914960987398961],\n",
       " [1, 2.7616226354169826, 2.5595462351599676, 1.4893701234248702]]"
      ]
     },
     "execution_count": 6,
     "metadata": {},
     "output_type": "execute_result"
    }
   ],
   "source": [
    "runTests('array_search.cpp')"
   ]
  },
  {
   "cell_type": "code",
   "execution_count": 7,
   "id": "53082e56-13b4-406a-9271-79dc70717bcf",
   "metadata": {},
   "outputs": [
    {
     "name": "stdout",
     "output_type": "stream",
     "text": [
      "Serial\n",
      "Run 0\n",
      "Run 20\n",
      "Run 40\n",
      "Run 60\n",
      "Run 80\n",
      "Test 2\n",
      "Run 0\n",
      "Run 20\n",
      "Run 40\n",
      "Run 60\n",
      "Run 80\n",
      "Test 4\n",
      "Run 0\n",
      "Run 20\n",
      "Run 40\n",
      "Run 60\n",
      "Run 80\n",
      "Test 8\n",
      "Run 0\n",
      "Run 20\n",
      "Run 40\n",
      "Run 60\n",
      "Run 80\n"
     ]
    },
    {
     "data": {
      "text/plain": [
       "[[0.3166368924, 0.17086327267000004, 0.07266288533, 0.041476929100000025],\n",
       " [1, 7.503034680544664, 17.958892214958187, 17.6715627498824],\n",
       " [1, 3.751517340272332, 4.489723053739547, 2.2089453437353]]"
      ]
     },
     "execution_count": 7,
     "metadata": {},
     "output_type": "execute_result"
    }
   ],
   "source": [
    "runTests('vector_search.cpp')"
   ]
  },
  {
   "cell_type": "code",
   "execution_count": null,
   "id": "58bff124-f2c7-49c6-87e1-e830c5e87766",
   "metadata": {},
   "outputs": [],
   "source": []
  }
 ],
 "metadata": {
  "kernelspec": {
   "display_name": "Python 3 (ipykernel)",
   "language": "python",
   "name": "python3"
  },
  "language_info": {
   "codemirror_mode": {
    "name": "ipython",
    "version": 3
   },
   "file_extension": ".py",
   "mimetype": "text/x-python",
   "name": "python",
   "nbconvert_exporter": "python",
   "pygments_lexer": "ipython3",
   "version": "3.12.11"
  }
 },
 "nbformat": 4,
 "nbformat_minor": 5
}
